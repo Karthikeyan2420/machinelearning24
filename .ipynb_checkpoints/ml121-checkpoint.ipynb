{
 "cells": [
  {
   "cell_type": "code",
   "execution_count": null,
   "id": "d288936c-edf3-405e-9b92-70db5dcf669f",
   "metadata": {},
   "outputs": [],
   "source": [
    "import re\n",
    "\n",
    "# Sample text\n",
    "text = \"\"\"\n",
    "John Doe: johndoe@example.com, Phone: +1-123-456-7890\n",
    "Jane Smith: jane_smith123@example.org, Phone: (123) 456 7890\n",
    "Contact us at support@company.com or call us at 987-654-3210.\n",
    "\"\"\"\n",
    "\n",
    "# Regular expressions for email and phone number\n",
    "email_pattern = r'[a-zA-Z0-9._%+-]+@[a-zA-Z0-9.-]+\\.[a-zA-Z]{2,}'\n",
    "phone_pattern = r'\\+?\\d{1,3}[-.\\s]?\\(?\\d{3}\\)?[-.\\s]?\\d{3}[-.\\s]?\\d{4}'\n",
    "\n",
    "# Find all matches\n",
    "emails = re.findall(email_pattern, text)\n",
    "phones = re.findall(phone_pattern, text)\n",
    "\n",
    "# Print results\n",
    "print(\"Extracted Emails:\")\n",
    "print(emails)\n",
    "\n",
    "print(\"\\nExtracted Phone Numbers:\")\n",
    "print(phones)\n"
   ]
  }
 ],
 "metadata": {
  "kernelspec": {
   "display_name": "Python 3 (ipykernel)",
   "language": "python",
   "name": "python3"
  },
  "language_info": {
   "codemirror_mode": {
    "name": "ipython",
    "version": 3
   },
   "file_extension": ".py",
   "mimetype": "text/x-python",
   "name": "python",
   "nbconvert_exporter": "python",
   "pygments_lexer": "ipython3",
   "version": "3.12.3"
  }
 },
 "nbformat": 4,
 "nbformat_minor": 5
}
