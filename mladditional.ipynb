{
 "cells": [
  {
   "cell_type": "code",
   "execution_count": 2,
   "id": "abef8702-2f7f-4b07-9935-49777c403077",
   "metadata": {},
   "outputs": [
    {
     "name": "stdout",
     "output_type": "stream",
     "text": [
      "Mean Squared Error (KNN): 0.14312849034929087\n"
     ]
    }
   ],
   "source": [
    "import pandas as pd\n",
    "from sklearn.model_selection import train_test_split\n",
    "from sklearn.preprocessing import StandardScaler, LabelEncoder\n",
    "from sklearn.neighbors import KNeighborsRegressor\n",
    "from sklearn.metrics import mean_squared_error, accuracy_score\n",
    "data = pd.read_csv('adult.csv')\n",
    "categorical_columns = ['workclass', 'education', 'marital-status', 'occupation', \n",
    "                       'relationship', 'race', 'sex', 'nativeCountry']\n",
    "data = pd.get_dummies(data, columns=categorical_columns)\n",
    "data['income'] = data['income'].apply(lambda x: 1 if x == '>50K' else 0)\n",
    "X = data.drop('income', axis=1)\n",
    "y = data['income']\n",
    "scaler = StandardScaler()\n",
    "X = scaler.fit_transform(X)\n",
    "X_train, X_test, y_train, y_test = train_test_split(X, y, test_size=0.3, random_state=42)\n",
    "knn_model = KNeighborsRegressor(n_neighbors=3)  # You can adjust 'n_neighbors' as needed\n",
    "knn_model.fit(X_train, y_train)\n",
    "\n",
    "# Make predictions\n",
    "knn_pred = knn_model.predict(X_test)\n",
    "\n",
    "# Evaluate the KNN model using Mean Squared Error\n",
    "knn_mse = mean_squared_error(y_test, knn_pred)\n",
    "print(f\"Mean Squared Error (KNN): {knn_mse}\")\n"
   ]
  },
  {
   "cell_type": "code",
   "execution_count": null,
   "id": "b126cc3a-26c1-42c5-9740-055302b7575c",
   "metadata": {},
   "outputs": [],
   "source": [
    "import pandas as pd\n",
    "from sklearn.model_selection import train_test_split, cross_val_score\n",
    "from sklearn.tree import DecisionTreeRegressor\n",
    "from sklearn.metrics import mean_squared_error\n",
    "import numpy as np\n",
    "\n",
    "# Load the dataset\n",
    "data = pd.read_csv('data.csv')\n",
    "X = data.drop('cv', axis=1)\n",
    "y = data['cv']\n",
    "\n",
    "# Split into training and test sets\n",
    "X_train, X_test, y_train, y_test = train_test_split(X, y, test_size=0.3, random_state=42)\n",
    "\n",
    "# Train a Decision Tree Regressor\n",
    "tree = DecisionTreeRegressor(max_depth=5, random_state=42)\n",
    "tree.fit(X_train, y_train)\n",
    "y_pred = tree.predict(X_test)\n",
    "\n",
    "# Calculate MSE\n",
    "mse_tree = mean_squared_error(y_test, y_pred)\n",
    "print(f'Decision Tree MSE: {mse_tree:.2f}')\n",
    "\n",
    "# Baseline Model: Mean Predictor\n",
    "y_baseline_pred = np.full(shape=y_test.shape, fill_value=y_train.mean())\n",
    "mse_baseline = mean_squared_error(y_test, y_baseline_pred)\n",
    "print(f'Baseline MSE: {mse_baseline:.2f}')\n",
    "\n",
    "# Interpretation\n",
    "if mse_tree < mse_baseline:\n",
    "    print(\"The Decision Tree model performs better than the baseline.\")\n",
    "else:\n",
    "    print(\"The Decision Tree model does not outperform the baseline.\")"
   ]
  }
 ],
 "metadata": {
  "kernelspec": {
   "display_name": "Python 3 (ipykernel)",
   "language": "python",
   "name": "python3"
  },
  "language_info": {
   "codemirror_mode": {
    "name": "ipython",
    "version": 3
   },
   "file_extension": ".py",
   "mimetype": "text/x-python",
   "name": "python",
   "nbconvert_exporter": "python",
   "pygments_lexer": "ipython3",
   "version": "3.12.3"
  }
 },
 "nbformat": 4,
 "nbformat_minor": 5
}
