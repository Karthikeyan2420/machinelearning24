{
 "cells": [
  {
   "cell_type": "code",
   "execution_count": null,
   "id": "5ae41648-fa09-4c76-98d3-779c75e145f4",
   "metadata": {},
   "outputs": [],
   "source": [
    " Entropy has a maximum impurity of 1 and maximum purity is 0."
   ]
  },
  {
   "cell_type": "code",
   "execution_count": 14,
   "id": "efade35c-36b3-4712-a739-c33ad83482a2",
   "metadata": {},
   "outputs": [
    {
     "name": "stdout",
     "output_type": "stream",
     "text": [
      "5.683324396400327\n"
     ]
    }
   ],
   "source": [
    "#Entropy\n",
    "import math\n",
    "import pandas as pd\n",
    "def entropy(data):\n",
    "    datacount={}\n",
    "    for d in data:\n",
    "        datacount[d]=datacount.get(d,0)+1\n",
    "    total=len(data)\n",
    "    entr=0\n",
    "    for count in datacount.values():\n",
    "        pro=count/total\n",
    "        entr-=pro*math.log2(pro)\n",
    "    print(entr)\n",
    "\n",
    "data=pd.read_csv(\"adult.csv\")\n",
    "entropy(data.iloc[:,0])"
   ]
  },
  {
   "cell_type": "code",
   "execution_count": 14,
   "id": "4c9fac4a-c983-43e6-b53b-a22d70851ec1",
   "metadata": {
    "scrolled": true
   },
   "outputs": [
    {
     "name": "stdout",
     "output_type": "stream",
     "text": [
      "Accuracy: 0.06678949792722248\n"
     ]
    }
   ],
   "source": [
    "#KNN\n",
    "import pandas as pd\n",
    "from sklearn.model_selection import train_test_split\n",
    "from sklearn.preprocessing import OneHotEncoder\n",
    "from sklearn.neighbors import KNeighborsClassifier\n",
    "from sklearn.metrics import accuracy_score\n",
    "\n",
    "# Step 1: Load your dataset\n",
    "adult_df = pd.read_csv(\"adult.csv\")\n",
    "\n",
    "numerical_cols = adult_df.select_dtypes(include=['int', 'float']).columns\n",
    "\n",
    "\n",
    "X = adult_df[numerical_cols]\n",
    "y = adult_df[\"age\"]\n",
    "\n",
    "# Step 3: Split your dataset into training and testing sets\n",
    "X_train, X_test, y_train, y_test = train_test_split(X, y, test_size=0.2, random_state=42)\n",
    "\n",
    "# Step 4: Instantiate and train the KNN model\n",
    "knn = KNeighborsClassifier(n_neighbors=3)\n",
    "knn.fit(X_train, y_train)\n",
    "\n",
    "# Step 5: Evaluate the model\n",
    "y_pred = knn.predict(X_test)\n",
    "accuracy = accuracy_score(y_test, y_pred)\n",
    "print(\"Accuracy:\", accuracy)\n"
   ]
  },
  {
   "cell_type": "code",
   "execution_count": 2,
   "id": "fea155d1-ce2d-40c4-8330-f89b5a5f6fa7",
   "metadata": {},
   "outputs": [
    {
     "name": "stdout",
     "output_type": "stream",
     "text": [
      "Accuracy: 0.8569015814524796\n",
      "              precision    recall  f1-score   support\n",
      "\n",
      "       <=50K       0.88      0.94      0.91      4942\n",
      "        >50K       0.76      0.59      0.67      1571\n",
      "\n",
      "    accuracy                           0.86      6513\n",
      "   macro avg       0.82      0.77      0.79      6513\n",
      "weighted avg       0.85      0.86      0.85      6513\n",
      "\n"
     ]
    }
   ],
   "source": [
    "#Support Vector Machines (SVM) \n",
    "import pandas as pd\n",
    "from sklearn.model_selection import train_test_split\n",
    "from sklearn.preprocessing import StandardScaler, OneHotEncoder\n",
    "from sklearn.compose import ColumnTransformer\n",
    "from sklearn.pipeline import Pipeline\n",
    "from sklearn.svm import SVC\n",
    "from sklearn.metrics import classification_report, accuracy_score\n",
    "\n",
    "data = pd.read_csv('adult.csv')  \n",
    "X = data.drop('income', axis=1)\n",
    "y = data['income']\n",
    "categorical_cols = X.select_dtypes(include=['object']).columns\n",
    "numerical_cols = X.select_dtypes(include=['int64', 'float64']).columns\n",
    "preprocessor = ColumnTransformer(\n",
    "    transformers=[\n",
    "        ('num', StandardScaler(), numerical_cols),  # Scale numerical features\n",
    "        ('cat', OneHotEncoder(), categorical_cols)   # One-hot encode categorical features\n",
    "    ])\n",
    "\n",
    "X_train, X_test, y_train, y_test = train_test_split(X, y, test_size=0.2, random_state=42)\n",
    "\n",
    "model = Pipeline(steps=[\n",
    "    ('preprocessor', preprocessor),\n",
    "    ('svm', SVC(kernel='linear'))  \n",
    "])\n",
    "\n",
    "model.fit(X_train, y_train)\n",
    "\n",
    "y_pred = model.predict(X_test)\n",
    "\n",
    "print(f'Accuracy: {accuracy_score(y_test, y_pred)}')\n",
    "print(classification_report(y_test, y_pred))\n"
   ]
  },
  {
   "cell_type": "code",
   "execution_count": 3,
   "id": "23762588-5281-4a9f-af2f-0afdef4f39fe",
   "metadata": {},
   "outputs": [
    {
     "name": "stdout",
     "output_type": "stream",
     "text": [
      "Mean Squared Error: 0.14287464307148223\n",
      "R^2 Score: 0.21938231025872323\n"
     ]
    }
   ],
   "source": [
    "import pandas as pd\n",
    "from sklearn.model_selection import train_test_split\n",
    "from sklearn.preprocessing import StandardScaler, OneHotEncoder, LabelEncoder\n",
    "from sklearn.compose import ColumnTransformer\n",
    "from sklearn.pipeline import Pipeline\n",
    "from sklearn.svm import SVR\n",
    "from sklearn.metrics import mean_squared_error, r2_score\n",
    "\n",
    "# Load the dataset\n",
    "data = pd.read_csv('adult.csv')\n",
    "\n",
    "# Drop the target 'income' and assign it to y\n",
    "X = data.drop('income', axis=1)\n",
    "y = data['income']\n",
    "\n",
    "# Encode the target variable (income) into numerical values\n",
    "# For example: '>50K' becomes 1 and '<=50K' becomes 0\n",
    "y = y.map({'>50K': 1, '<=50K': 0})  # Adjust based on your data\n",
    "\n",
    "# Identify categorical and numerical columns\n",
    "categorical_cols = X.select_dtypes(include=['object']).columns\n",
    "numerical_cols = X.select_dtypes(include=['int64', 'float64']).columns\n",
    "\n",
    "# Preprocessing\n",
    "preprocessor = ColumnTransformer(\n",
    "    transformers=[\n",
    "        ('num', StandardScaler(), numerical_cols),  # Scale numerical features\n",
    "        ('cat', OneHotEncoder(), categorical_cols)  # One-hot encode categorical features\n",
    "    ])\n",
    "\n",
    "# Train-test split\n",
    "X_train, X_test, y_train, y_test = train_test_split(X, y, test_size=0.2, random_state=42)\n",
    "\n",
    "# Regression model pipeline\n",
    "model = Pipeline(steps=[\n",
    "    ('preprocessor', preprocessor),\n",
    "    ('svr', SVR(kernel='linear'))  # Use SVR for regression\n",
    "])\n",
    "\n",
    "# Train the model\n",
    "model.fit(X_train, y_train)\n",
    "\n",
    "# Predict on the test set\n",
    "y_pred = model.predict(X_test)\n",
    "\n",
    "# Calculate and print regression evaluation metrics\n",
    "print(f'Mean Squared Error: {mean_squared_error(y_test, y_pred)}')\n",
    "print(f'R^2 Score: {r2_score(y_test, y_pred)}')\n",
    "#If the MSE is low and the R² score is high (close to 1), the model is performing well."
   ]
  },
  {
   "cell_type": "code",
   "execution_count": 1,
   "id": "a6f0e3c0-baff-4a6c-bfa9-ace82cfe5929",
   "metadata": {},
   "outputs": [
    {
     "name": "stdout",
     "output_type": "stream",
     "text": [
      "[1]\n"
     ]
    }
   ],
   "source": [
    "#Navice Bayes Classifier\n",
    "import pandas as pd\n",
    "from sklearn.model_selection import train_test_split\n",
    "from sklearn.naive_bayes import CategoricalNB\n",
    "from sklearn.preprocessing import LabelEncoder\n",
    "\n",
    "# Load the CSV data\n",
    "data = pd.read_csv(\"Tennisdataset1.2.csv\")\n",
    "\n",
    "# Preprocess the features data\n",
    "feature_cols = ['Outlook', 'Temperature', 'Humidity', 'Wind']\n",
    "X = data[feature_cols]\n",
    "X_encoded = X.apply(LabelEncoder().fit_transform)\n",
    "\n",
    "# Preprocess the target variable\n",
    "y = data['enjoysport']\n",
    "y_encoded = LabelEncoder().fit_transform(y)\n",
    "\n",
    "# Initialize the Naive Bayes classifier\n",
    "clf = CategoricalNB()\n",
    "\n",
    "# Train the classifier\n",
    "clf.fit(X_encoded, y_encoded)\n",
    "'''\n",
    "# Example data for prediction\n",
    "new_data = pd.DataFrame({\n",
    "    'Outlook': ['Sunny'],\n",
    "    'Temperature': ['Hot'],\n",
    "    'Humidity': ['High'],\n",
    "    'Wind': ['Weak']\n",
    "})\n",
    "\n",
    "# Preprocess new data\n",
    "new_data_encoded = new_data.apply(LabelEncoder().fit_transform)\n",
    "\n",
    "# Make predictions\n",
    "predictions = clf.predict(new_data_encoded)\n",
    "print(predictions) '''"
   ]
  },
  {
   "cell_type": "code",
   "execution_count": 2,
   "id": "f6483eba-7938-436d-a2ba-44880ba85bbf",
   "metadata": {},
   "outputs": [
    {
     "name": "stdout",
     "output_type": "stream",
     "text": [
      "    Outlook  Temperature  Humidity  Wind  enjoysport\n",
      "0         2            1         0     1           0\n",
      "1         2            1         0     0           0\n",
      "2         0            1         0     1           1\n",
      "3         1            2         0     1           1\n",
      "4         1            0         1     1           1\n",
      "5         1            0         1     0           0\n",
      "6         0            0         1     0           1\n",
      "7         2            2         0     1           0\n",
      "8         2            0         1     1           1\n",
      "9         1            2         1     1           1\n",
      "10        2            2         1     0           1\n",
      "11        0            2         0     0           1\n",
      "12        0            1         1     1           1\n",
      "13        1            2         0     0           0\n",
      "Accuracy: 33.33%\n",
      "Prediction: Yes\n"
     ]
    }
   ],
   "source": [
    "\n",
    "import pandas as pd\n",
    "from sklearn.model_selection import train_test_split\n",
    "from sklearn.preprocessing import LabelEncoder\n",
    "from sklearn.naive_bayes import CategoricalNB\n",
    "from sklearn.metrics import accuracy_score\n",
    "\n",
    "# Data preparation\n",
    "df = pd.read_csv(\"Tennisdataset1.2.csv\")\n",
    "\n",
    "# Convert categorical data to numeric using LabelEncoder\n",
    "label_encoders = {}\n",
    "for column in df.columns:\n",
    "    label_encoders[column] = LabelEncoder()\n",
    "    df[column] = label_encoders[column].fit_transform(df[column])\n",
    "print(df)\n",
    "# Split the data into features and target\n",
    "X = df.drop('enjoysport', axis=1)\n",
    "y = df['enjoysport']\n",
    "\n",
    "# Split the dataset into training and testing sets\n",
    "X_train, X_test, y_train, y_test = train_test_split(X, y, test_size=0.2, random_state=42)\n",
    "\n",
    "# Create the CategoricalNB model\n",
    "model = CategoricalNB()\n",
    "\n",
    "# Train the model\n",
    "model.fit(X_train, y_train)\n",
    "\n",
    "# Make predictions\n",
    "y_pred = model.predict(X_test)\n",
    "\n",
    "# Check the accuracy\n",
    "accuracy = accuracy_score(y_test, y_pred)\n",
    "print(f\"Accuracy: {accuracy * 100:.2f}%\")\n",
    "\n",
    "# Test the model with a new sample\n",
    "new_sample = pd.DataFrame({\n",
    "    'Outlook': ['Sunny'], \n",
    "    'Temperature': ['Cool'], \n",
    "    'Humidity': ['High'], \n",
    "    'Wind': ['Weak']\n",
    "})\n",
    "\n",
    "# Convert the new sample to numerical form using the same LabelEncoders\n",
    "for column in new_sample.columns:\n",
    "    new_sample[column] = label_encoders[column].transform(new_sample[column])\n",
    "\n",
    "# Predict whether the person enjoys the sport or not\n",
    "prediction = model.predict(new_sample)\n",
    "print(f\"Prediction: {label_encoders['enjoysport'].inverse_transform(prediction)[0]}\")"
   ]
  },
  {
   "cell_type": "code",
   "execution_count": null,
   "id": "059b1e3c-e008-49b6-96ea-25a3b8817847",
   "metadata": {},
   "outputs": [],
   "source": []
  }
 ],
 "metadata": {
  "kernelspec": {
   "display_name": "Python 3 (ipykernel)",
   "language": "python",
   "name": "python3"
  },
  "language_info": {
   "codemirror_mode": {
    "name": "ipython",
    "version": 3
   },
   "file_extension": ".py",
   "mimetype": "text/x-python",
   "name": "python",
   "nbconvert_exporter": "python",
   "pygments_lexer": "ipython3",
   "version": "3.12.3"
  }
 },
 "nbformat": 4,
 "nbformat_minor": 5
}
