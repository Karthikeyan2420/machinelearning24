{
 "cells": [
  {
   "cell_type": "code",
   "execution_count": null,
   "id": "165fb06f-cc58-4c1b-b8ad-730da30306bb",
   "metadata": {},
   "outputs": [],
   "source": []
  }
 ],
 "metadata": {
  "kernelspec": {
   "display_name": "",
   "name": ""
  },
  "language_info": {
   "name": ""
  }
 },
 "nbformat": 4,
 "nbformat_minor": 5
}
